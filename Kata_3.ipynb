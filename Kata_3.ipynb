{
 "cells": [
  {
   "cell_type": "markdown",
   "id": "3f5b7dbe",
   "metadata": {},
   "source": [
    "# Usar lógica booleana\n",
    "Explora cómo usar la lógica booleana en Python para crear expresiones complejas que aplican lógica condicional."
   ]
  },
  {
   "cell_type": "markdown",
   "id": "3bf6523f",
   "metadata": {},
   "source": [
    "## Ejercicio 1: \n",
    "\n",
    "Para este ejercicio, escribirás una lógica condicional que imprima una advertencia si un asteroide se acerca a la Tierra demasiado rápido. La velocidad del asteroide varía dependiendo de lo cerca que esté del sol, y cualquier velocidad superior a 25 kilómetros por segundo (km/s) merece una advertencia.\n",
    "\n",
    "Un asteroide se acerca, y viaja a una velocidad de 49 km/s."
   ]
  },
  {
   "cell_type": "code",
   "execution_count": 2,
   "id": "fa530a84",
   "metadata": {},
   "outputs": [
    {
     "name": "stdout",
     "output_type": "stream",
     "text": [
      "Advertencia\n"
     ]
    }
   ],
   "source": [
    "# Añadir el código necesario para crear una variable que guarde la velocidad del asteroide.\n",
    "# Escribe una expresión de prueba para calcular si necesita una advertencia.\n",
    "# Agregue las instrucciones que se ejecutarán si la expresión de prueba es true o false.\n",
    "\n",
    "vel = 49\n",
    "\n",
    "if vel > 25:\n",
    "    print (\"Advertencia\")\n",
    "else:\n",
    "    print (\"Nada pasa\")"
   ]
  },
  {
   "cell_type": "markdown",
   "id": "70494709",
   "metadata": {},
   "source": [
    "Si un asteroide entra en la atmósfera de la Tierra a una velocidad mayor o igual a 20 km/s, a veces produce un rayo de luz que se puede ver desde la Tierra. Escribe la lógica condicional que usa declaraciones if, else, y elif para alertar a las personas de todo el mundo que deben buscar un asteroide en el cielo. ¡Hay uno que se dirige a la tierra ahora a una velocidad de 19 km/s!"
   ]
  },
  {
   "cell_type": "code",
   "execution_count": 3,
   "id": "d3e6cfa7",
   "metadata": {},
   "outputs": [
    {
     "name": "stdout",
     "output_type": "stream",
     "text": [
      "Nada para ver\n"
     ]
    }
   ],
   "source": [
    "# Agrega el código para crear una variable para un asteroide que viaja a 19 km/s\n",
    "# Escribe varias expresiones de prueba para determinar si puedes ver el rayo de luz desde la tierra\n",
    "# Agrega las instrucciones que se ejecutarán si las expresiones de prueba son True o False\n",
    "\n",
    "vel_a = 19\n",
    "\n",
    "if vel_a > 20:\n",
    "    print (\"Busca el asteroide en el cielo.\")\n",
    "elif vel_a == 20:\n",
    "    print (\"Busca el asteroide en el cielo. Puede que veas un rayo de luz.\")\n",
    "else:\n",
    "    print (\"Nada para ver\")"
   ]
  },
  {
   "cell_type": "markdown",
   "id": "3bf08ab4",
   "metadata": {},
   "source": [
    "## Ejercicio 2: Uso de operadores and y or\n",
    "\n",
    "*   Los asteroides de menos de 25 metros en su dimensión más grande probablemente se quemarán a medida que entren en la atmósfera de la Tierra.\n",
    "\n",
    "*   Si una pieza de un asteroide que es más grande que 25 metros pero más pequeña que 1000 metros golpeara la Tierra, causaría mucho daño.\n",
    "\n",
    "También discutimos en el ejercicio anterior que:\n",
    "\n",
    "    La velocidad del asteroide varía en función de lo cerca que esté del sol, y cualquier velocidad superior a 25 kilómetros por segundo (km/s) merece una advertencia.\n",
    "    Si un asteroide entra en la atmósfera de la Tierra a una velocidad mayor o igual a 20 km/s, a veces produce un rayo de luz que se puede ver desde la Tierra.\n",
    "\n",
    "Usando toda esta información, escribe un programa que emita la advertencia o información correcta a la gente de la Tierra, según la velocidad y el tamaño de un asteroide. Utiliza instrucciones if, else, y elif, así como los operadores and y or."
   ]
  },
  {
   "cell_type": "code",
   "execution_count": 5,
   "id": "0f2a5c43",
   "metadata": {},
   "outputs": [
    {
     "name": "stdout",
     "output_type": "stream",
     "text": [
      "Un asteroide entró a la tierra pero el se va a quemar antes de chocar.\n"
     ]
    }
   ],
   "source": [
    "V_ast = 21\n",
    "dim_ast = 24\n",
    "\n",
    "if V_ast > 25:\n",
    "    print (\"Cuidad un asteroide se aproxima\")\n",
    "elif V_ast >= 20 and dim_ast < 25:\n",
    "    print(\"Un asteroide entró a la tierra pero el se va a quemar antes de chocar.\")\n",
    "elif V_ast >= 20 and dim_ast >= 25:\n",
    "    print(\"Un asteroide entró a la tierra y nos vamos a morir.\")\n",
    "else:\n",
    "    print(\"Nada que preocuparnos.\")"
   ]
  }
 ],
 "metadata": {
  "kernelspec": {
   "display_name": "Python 3",
   "language": "python",
   "name": "python3"
  },
  "language_info": {
   "codemirror_mode": {
    "name": "ipython",
    "version": 3
   },
   "file_extension": ".py",
   "mimetype": "text/x-python",
   "name": "python",
   "nbconvert_exporter": "python",
   "pygments_lexer": "ipython3",
   "version": "3.8.11"
  }
 },
 "nbformat": 4,
 "nbformat_minor": 5
}
